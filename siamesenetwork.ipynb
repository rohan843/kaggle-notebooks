{
 "cells": [
  {
   "cell_type": "code",
   "execution_count": 1,
   "id": "1e586bf6",
   "metadata": {
    "_cell_guid": "b1076dfc-b9ad-4769-8c92-a6c4dae69d19",
    "_uuid": "8f2839f25d086af736a60e9eeb907d3b93b6e0e5",
    "execution": {
     "iopub.execute_input": "2023-02-15T16:34:31.956994Z",
     "iopub.status.busy": "2023-02-15T16:34:31.956541Z",
     "iopub.status.idle": "2023-02-15T16:34:45.325654Z",
     "shell.execute_reply": "2023-02-15T16:34:45.324557Z"
    },
    "papermill": {
     "duration": 13.383718,
     "end_time": "2023-02-15T16:34:45.328895",
     "exception": false,
     "start_time": "2023-02-15T16:34:31.945177",
     "status": "completed"
    },
    "tags": []
   },
   "outputs": [],
   "source": [
    "from datasets import load_dataset, load_from_disk\n",
    "import numpy as np\n",
    "import tensorflow as tf\n",
    "from tensorflow import keras\n",
    "import os\n",
    "import pathlib\n",
    "import pandas as pd\n",
    "\n",
    "from tensorflow.keras.layers import TextVectorization, Embedding, LSTM, Bidirectional, Lambda, Dense\n",
    "from tensorflow.keras import Model"
   ]
  },
  {
   "cell_type": "markdown",
   "id": "6cf1124c",
   "metadata": {
    "papermill": {
     "duration": 0.010635,
     "end_time": "2023-02-15T16:34:45.350333",
     "exception": false,
     "start_time": "2023-02-15T16:34:45.339698",
     "status": "completed"
    },
    "tags": []
   },
   "source": [
    "## Get GloVe Embeddings"
   ]
  },
  {
   "cell_type": "code",
   "execution_count": 2,
   "id": "09bf7c0f",
   "metadata": {
    "execution": {
     "iopub.execute_input": "2023-02-15T16:34:45.364066Z",
     "iopub.status.busy": "2023-02-15T16:34:45.363486Z",
     "iopub.status.idle": "2023-02-15T16:34:45.368220Z",
     "shell.execute_reply": "2023-02-15T16:34:45.367312Z"
    },
    "papermill": {
     "duration": 0.013514,
     "end_time": "2023-02-15T16:34:45.370160",
     "exception": false,
     "start_time": "2023-02-15T16:34:45.356646",
     "status": "completed"
    },
    "tags": []
   },
   "outputs": [],
   "source": [
    "# !wget http://nlp.stanford.edu/data/glove.6B.zip"
   ]
  },
  {
   "cell_type": "code",
   "execution_count": 3,
   "id": "78537ec8",
   "metadata": {
    "execution": {
     "iopub.execute_input": "2023-02-15T16:34:45.383955Z",
     "iopub.status.busy": "2023-02-15T16:34:45.383109Z",
     "iopub.status.idle": "2023-02-15T16:34:45.387490Z",
     "shell.execute_reply": "2023-02-15T16:34:45.386688Z"
    },
    "papermill": {
     "duration": 0.013056,
     "end_time": "2023-02-15T16:34:45.389375",
     "exception": false,
     "start_time": "2023-02-15T16:34:45.376319",
     "status": "completed"
    },
    "tags": []
   },
   "outputs": [],
   "source": [
    "# !unzip glove.6B.zip"
   ]
  },
  {
   "cell_type": "code",
   "execution_count": 4,
   "id": "5ba4a60c",
   "metadata": {
    "execution": {
     "iopub.execute_input": "2023-02-15T16:34:45.403022Z",
     "iopub.status.busy": "2023-02-15T16:34:45.402252Z",
     "iopub.status.idle": "2023-02-15T16:34:56.041667Z",
     "shell.execute_reply": "2023-02-15T16:34:56.040588Z"
    },
    "papermill": {
     "duration": 10.648745,
     "end_time": "2023-02-15T16:34:56.044286",
     "exception": false,
     "start_time": "2023-02-15T16:34:45.395541",
     "status": "completed"
    },
    "tags": []
   },
   "outputs": [
    {
     "name": "stdout",
     "output_type": "stream",
     "text": [
      "Found 400000 word vectors.\n"
     ]
    }
   ],
   "source": [
    "path_to_glove_file = os.path.join(\n",
    "    '/kaggle/input/glovedata/glove.6B.100d.txt'\n",
    ")\n",
    "\n",
    "embeddings_index = {}\n",
    "with open(path_to_glove_file) as f:\n",
    "    for line in f:\n",
    "        word, coefs = line.split(maxsplit=1)\n",
    "        coefs = np.fromstring(coefs, \"f\", sep=\" \")\n",
    "        embeddings_index[word] = coefs\n",
    "\n",
    "print(\"Found %s word vectors.\" % len(embeddings_index))"
   ]
  },
  {
   "cell_type": "markdown",
   "id": "8de325f9",
   "metadata": {
    "papermill": {
     "duration": 0.006269,
     "end_time": "2023-02-15T16:34:56.057399",
     "exception": false,
     "start_time": "2023-02-15T16:34:56.051130",
     "status": "completed"
    },
    "tags": []
   },
   "source": [
    "## Set a TextVectorization Layer to use all available words"
   ]
  },
  {
   "cell_type": "code",
   "execution_count": 5,
   "id": "02ef9b68",
   "metadata": {
    "execution": {
     "iopub.execute_input": "2023-02-15T16:34:56.072398Z",
     "iopub.status.busy": "2023-02-15T16:34:56.070819Z",
     "iopub.status.idle": "2023-02-15T16:35:03.611592Z",
     "shell.execute_reply": "2023-02-15T16:35:03.610636Z"
    },
    "papermill": {
     "duration": 7.550035,
     "end_time": "2023-02-15T16:35:03.613660",
     "exception": false,
     "start_time": "2023-02-15T16:34:56.063625",
     "status": "completed"
    },
    "tags": []
   },
   "outputs": [
    {
     "name": "stdout",
     "output_type": "stream",
     "text": [
      "Stored 400002 words in vocabulary.\n"
     ]
    },
    {
     "data": {
      "text/plain": [
       "['', '[UNK]', 'the', ',', '.']"
      ]
     },
     "execution_count": 5,
     "metadata": {},
     "output_type": "execute_result"
    }
   ],
   "source": [
    "vectorizer = TextVectorization(output_sequence_length=20)\n",
    "vectorizer.set_vocabulary(list(embeddings_index.keys()))\n",
    "print(f'Stored {len(vectorizer.get_vocabulary())} words in vocabulary.')\n",
    "vectorizer.get_vocabulary()[:5]"
   ]
  },
  {
   "cell_type": "code",
   "execution_count": 6,
   "id": "3f4149b9",
   "metadata": {
    "execution": {
     "iopub.execute_input": "2023-02-15T16:35:03.628531Z",
     "iopub.status.busy": "2023-02-15T16:35:03.628235Z",
     "iopub.status.idle": "2023-02-15T16:35:04.798039Z",
     "shell.execute_reply": "2023-02-15T16:35:04.796973Z"
    },
    "papermill": {
     "duration": 1.179882,
     "end_time": "2023-02-15T16:35:04.800658",
     "exception": false,
     "start_time": "2023-02-15T16:35:03.620776",
     "status": "completed"
    },
    "tags": []
   },
   "outputs": [],
   "source": [
    "voc = vectorizer.get_vocabulary()\n",
    "word_index = dict(zip(voc, range(len(voc))))    # Maps all tokens to their respective index"
   ]
  },
  {
   "cell_type": "markdown",
   "id": "64696d87",
   "metadata": {
    "papermill": {
     "duration": 0.00625,
     "end_time": "2023-02-15T16:35:04.813607",
     "exception": false,
     "start_time": "2023-02-15T16:35:04.807357",
     "status": "completed"
    },
    "tags": []
   },
   "source": [
    "## Create an embeddings layer based on the embeddings"
   ]
  },
  {
   "cell_type": "markdown",
   "id": "5d81fd77",
   "metadata": {
    "papermill": {
     "duration": 0.006238,
     "end_time": "2023-02-15T16:35:04.826208",
     "exception": false,
     "start_time": "2023-02-15T16:35:04.819970",
     "status": "completed"
    },
    "tags": []
   },
   "source": [
    "### First, create an embeddings matrix"
   ]
  },
  {
   "cell_type": "code",
   "execution_count": 7,
   "id": "8a65bc1e",
   "metadata": {
    "execution": {
     "iopub.execute_input": "2023-02-15T16:35:04.840365Z",
     "iopub.status.busy": "2023-02-15T16:35:04.840057Z",
     "iopub.status.idle": "2023-02-15T16:35:05.609882Z",
     "shell.execute_reply": "2023-02-15T16:35:05.608657Z"
    },
    "papermill": {
     "duration": 0.780055,
     "end_time": "2023-02-15T16:35:05.612588",
     "exception": false,
     "start_time": "2023-02-15T16:35:04.832533",
     "status": "completed"
    },
    "tags": []
   },
   "outputs": [
    {
     "name": "stdout",
     "output_type": "stream",
     "text": [
      "Converted 400000 words (2 misses)\n"
     ]
    }
   ],
   "source": [
    "num_tokens = len(voc) + 2\n",
    "embedding_dim = 100  # We are using 100 dim embeddings\n",
    "hits = 0\n",
    "misses = 0\n",
    "\n",
    "# Prepare embedding matrix\n",
    "embedding_matrix = np.zeros((num_tokens, embedding_dim))\n",
    "for word, i in word_index.items():\n",
    "    embedding_vector = embeddings_index.get(word)\n",
    "    if embedding_vector is not None:\n",
    "        # Words not found in embedding index will be all-zeros.\n",
    "        # This includes the representation for \"padding\" and \"OOV\"\n",
    "        embedding_matrix[i] = embedding_vector\n",
    "        hits += 1\n",
    "    else:\n",
    "        misses += 1\n",
    "print(\"Converted %d words (%d misses)\" % (hits, misses))"
   ]
  },
  {
   "cell_type": "markdown",
   "id": "1959aa98",
   "metadata": {
    "papermill": {
     "duration": 0.006693,
     "end_time": "2023-02-15T16:35:05.626855",
     "exception": false,
     "start_time": "2023-02-15T16:35:05.620162",
     "status": "completed"
    },
    "tags": []
   },
   "source": [
    "### Now, create the layer"
   ]
  },
  {
   "cell_type": "code",
   "execution_count": 8,
   "id": "b5a392d3",
   "metadata": {
    "execution": {
     "iopub.execute_input": "2023-02-15T16:35:05.642751Z",
     "iopub.status.busy": "2023-02-15T16:35:05.641125Z",
     "iopub.status.idle": "2023-02-15T16:35:05.661470Z",
     "shell.execute_reply": "2023-02-15T16:35:05.660613Z"
    },
    "papermill": {
     "duration": 0.030489,
     "end_time": "2023-02-15T16:35:05.663651",
     "exception": false,
     "start_time": "2023-02-15T16:35:05.633162",
     "status": "completed"
    },
    "tags": []
   },
   "outputs": [],
   "source": [
    "embedding_layer = Embedding(\n",
    "    num_tokens,\n",
    "    embedding_dim,\n",
    "    embeddings_initializer=keras.initializers.Constant(embedding_matrix),\n",
    "    trainable=False,\n",
    "    input_length=20\n",
    ")"
   ]
  },
  {
   "cell_type": "markdown",
   "id": "f3c1662e",
   "metadata": {
    "papermill": {
     "duration": 0.006008,
     "end_time": "2023-02-15T16:35:05.676062",
     "exception": false,
     "start_time": "2023-02-15T16:35:05.670054",
     "status": "completed"
    },
    "tags": []
   },
   "source": [
    "## Data Processing"
   ]
  },
  {
   "cell_type": "code",
   "execution_count": 9,
   "id": "103ff19b",
   "metadata": {
    "execution": {
     "iopub.execute_input": "2023-02-15T16:35:05.690505Z",
     "iopub.status.busy": "2023-02-15T16:35:05.690211Z",
     "iopub.status.idle": "2023-02-15T16:35:05.694655Z",
     "shell.execute_reply": "2023-02-15T16:35:05.693595Z"
    },
    "papermill": {
     "duration": 0.013767,
     "end_time": "2023-02-15T16:35:05.696677",
     "exception": false,
     "start_time": "2023-02-15T16:35:05.682910",
     "status": "completed"
    },
    "tags": []
   },
   "outputs": [],
   "source": [
    "# def vectorizerFn(example):\n",
    "#     example['sentence1'] = vectorizer(example['sentence1'])\n",
    "#     example['sentence2'] = vectorizer(example['sentence2'])\n",
    "#     return example\n",
    "\n",
    "# dataset = load_dataset(\"paws\", \"labeled_final\")\n",
    "\n",
    "# dataset['train'] = dataset['train'].map(vectorizerFn)\n",
    "# dataset['test'] = dataset['test'].map(vectorizerFn)\n",
    "# dataset['validation'] = dataset['validation'].map(vectorizerFn)\n",
    "\n",
    "# dataset.save_to_disk(\"all_processes_data\")"
   ]
  },
  {
   "cell_type": "code",
   "execution_count": 10,
   "id": "b75d55ce",
   "metadata": {
    "execution": {
     "iopub.execute_input": "2023-02-15T16:35:05.711020Z",
     "iopub.status.busy": "2023-02-15T16:35:05.710231Z",
     "iopub.status.idle": "2023-02-15T16:35:06.129448Z",
     "shell.execute_reply": "2023-02-15T16:35:06.128368Z"
    },
    "papermill": {
     "duration": 0.429016,
     "end_time": "2023-02-15T16:35:06.131910",
     "exception": false,
     "start_time": "2023-02-15T16:35:05.702894",
     "status": "completed"
    },
    "tags": []
   },
   "outputs": [],
   "source": [
    "dataset = load_from_disk(\"/kaggle/input/all-processed-data-siamese-nw-for-sentence-sim/kaggle/working/all_processes_data\")"
   ]
  },
  {
   "cell_type": "code",
   "execution_count": 11,
   "id": "64aa52ac",
   "metadata": {
    "execution": {
     "iopub.execute_input": "2023-02-15T16:35:06.146469Z",
     "iopub.status.busy": "2023-02-15T16:35:06.146138Z",
     "iopub.status.idle": "2023-02-15T16:35:07.918892Z",
     "shell.execute_reply": "2023-02-15T16:35:07.917849Z"
    },
    "papermill": {
     "duration": 1.782598,
     "end_time": "2023-02-15T16:35:07.921391",
     "exception": false,
     "start_time": "2023-02-15T16:35:06.138793",
     "status": "completed"
    },
    "tags": []
   },
   "outputs": [],
   "source": [
    "data = dict()\n",
    "data['train'] = dict()\n",
    "data['validation'] = dict()\n",
    "data['test'] = dict()\n",
    "\n",
    "for split_name in ['train', 'validation', 'test']:\n",
    "    data[split_name]['sentence1'] = np.array(dataset[split_name]['sentence1'])\n",
    "    data[split_name]['sentence2'] = np.array(dataset[split_name]['sentence2'])\n",
    "    data[split_name]['label'] = np.array(dataset[split_name]['label']).reshape((-1, 1))"
   ]
  },
  {
   "cell_type": "code",
   "execution_count": 12,
   "id": "75da39f7",
   "metadata": {
    "execution": {
     "iopub.execute_input": "2023-02-15T16:35:07.938053Z",
     "iopub.status.busy": "2023-02-15T16:35:07.937713Z",
     "iopub.status.idle": "2023-02-15T16:35:07.944248Z",
     "shell.execute_reply": "2023-02-15T16:35:07.943110Z"
    },
    "papermill": {
     "duration": 0.018405,
     "end_time": "2023-02-15T16:35:07.947786",
     "exception": false,
     "start_time": "2023-02-15T16:35:07.929381",
     "status": "completed"
    },
    "tags": []
   },
   "outputs": [
    {
     "data": {
      "text/plain": [
       "(49401, 20)"
      ]
     },
     "execution_count": 12,
     "metadata": {},
     "output_type": "execute_result"
    }
   ],
   "source": [
    "data['train']['sentence1'].shape"
   ]
  },
  {
   "cell_type": "markdown",
   "id": "4c3cee73",
   "metadata": {
    "papermill": {
     "duration": 0.006489,
     "end_time": "2023-02-15T16:35:07.961211",
     "exception": false,
     "start_time": "2023-02-15T16:35:07.954722",
     "status": "completed"
    },
    "tags": []
   },
   "source": [
    "## Create The Model"
   ]
  },
  {
   "cell_type": "code",
   "execution_count": 13,
   "id": "c057a28f",
   "metadata": {
    "execution": {
     "iopub.execute_input": "2023-02-15T16:35:07.975554Z",
     "iopub.status.busy": "2023-02-15T16:35:07.975230Z",
     "iopub.status.idle": "2023-02-15T16:35:08.785812Z",
     "shell.execute_reply": "2023-02-15T16:35:08.784843Z"
    },
    "papermill": {
     "duration": 0.820418,
     "end_time": "2023-02-15T16:35:08.788364",
     "exception": false,
     "start_time": "2023-02-15T16:35:07.967946",
     "status": "completed"
    },
    "tags": []
   },
   "outputs": [],
   "source": [
    "lstm_layer = LSTM(4, return_sequences=False)\n",
    "l1_layer = Lambda(lambda x: tf.keras.backend.abs(x[0] - x[1]))\n",
    "\n",
    "input1 = tf.keras.Input(shape=(20,), name='sentence1')\n",
    "input2 = tf.keras.Input(shape=(20,), name='sentence2')\n",
    "\n",
    "e1 = embedding_layer(input1)\n",
    "e2 = embedding_layer(input2)\n",
    "\n",
    "x1 = lstm_layer(e1)\n",
    "x2 = lstm_layer(e2)\n",
    "\n",
    "l1_dist = l1_layer([x1, x2])\n",
    "\n",
    "pred = Dense(1, activation='sigmoid', name='equalProb')(l1_dist)\n",
    "\n",
    "model = Model(inputs=[input1, input2], outputs=[pred])"
   ]
  },
  {
   "cell_type": "code",
   "execution_count": 14,
   "id": "1e6512f3",
   "metadata": {
    "execution": {
     "iopub.execute_input": "2023-02-15T16:35:08.804181Z",
     "iopub.status.busy": "2023-02-15T16:35:08.803853Z",
     "iopub.status.idle": "2023-02-15T16:35:08.826767Z",
     "shell.execute_reply": "2023-02-15T16:35:08.825911Z"
    },
    "papermill": {
     "duration": 0.057997,
     "end_time": "2023-02-15T16:35:08.853242",
     "exception": false,
     "start_time": "2023-02-15T16:35:08.795245",
     "status": "completed"
    },
    "tags": []
   },
   "outputs": [
    {
     "name": "stdout",
     "output_type": "stream",
     "text": [
      "Model: \"model\"\n",
      "__________________________________________________________________________________________________\n",
      " Layer (type)                   Output Shape         Param #     Connected to                     \n",
      "==================================================================================================\n",
      " sentence1 (InputLayer)         [(None, 20)]         0           []                               \n",
      "                                                                                                  \n",
      " sentence2 (InputLayer)         [(None, 20)]         0           []                               \n",
      "                                                                                                  \n",
      " embedding (Embedding)          (None, 20, 100)      40000400    ['sentence1[0][0]',              \n",
      "                                                                  'sentence2[0][0]']              \n",
      "                                                                                                  \n",
      " lstm (LSTM)                    (None, 4)            1680        ['embedding[0][0]',              \n",
      "                                                                  'embedding[1][0]']              \n",
      "                                                                                                  \n",
      " lambda (Lambda)                (None, 4)            0           ['lstm[0][0]',                   \n",
      "                                                                  'lstm[1][0]']                   \n",
      "                                                                                                  \n",
      " equalProb (Dense)              (None, 1)            5           ['lambda[0][0]']                 \n",
      "                                                                                                  \n",
      "==================================================================================================\n",
      "Total params: 40,002,085\n",
      "Trainable params: 1,685\n",
      "Non-trainable params: 40,000,400\n",
      "__________________________________________________________________________________________________\n"
     ]
    }
   ],
   "source": [
    "model.summary()"
   ]
  },
  {
   "cell_type": "code",
   "execution_count": 15,
   "id": "c8ca412e",
   "metadata": {
    "execution": {
     "iopub.execute_input": "2023-02-15T16:35:08.871985Z",
     "iopub.status.busy": "2023-02-15T16:35:08.871555Z",
     "iopub.status.idle": "2023-02-15T16:35:08.892933Z",
     "shell.execute_reply": "2023-02-15T16:35:08.892081Z"
    },
    "papermill": {
     "duration": 0.032075,
     "end_time": "2023-02-15T16:35:08.894963",
     "exception": false,
     "start_time": "2023-02-15T16:35:08.862888",
     "status": "completed"
    },
    "tags": []
   },
   "outputs": [],
   "source": [
    "model.compile(loss='BinaryCrossentropy', optimizer='adam', metrics=[tf.keras.metrics.BinaryAccuracy()])"
   ]
  },
  {
   "cell_type": "code",
   "execution_count": 16,
   "id": "07a8c764",
   "metadata": {
    "execution": {
     "iopub.execute_input": "2023-02-15T16:35:08.912168Z",
     "iopub.status.busy": "2023-02-15T16:35:08.911871Z",
     "iopub.status.idle": "2023-02-15T16:35:09.445803Z",
     "shell.execute_reply": "2023-02-15T16:35:09.444598Z"
    },
    "papermill": {
     "duration": 0.545482,
     "end_time": "2023-02-15T16:35:09.448399",
     "exception": false,
     "start_time": "2023-02-15T16:35:08.902917",
     "status": "completed"
    },
    "tags": []
   },
   "outputs": [
    {
     "data": {
      "image/png": "[encoded data removed]",
      "text/plain": [
       "<IPython.core.display.Image object>"
      ]
     },
     "execution_count": 16,
     "metadata": {},
     "output_type": "execute_result"
    }
   ],
   "source": [
    "keras.utils.plot_model(model, \"siamese_model.png\", show_shapes=True)"
   ]
  },
  {
   "cell_type": "code",
   "execution_count": 17,
   "id": "f86bb97d",
   "metadata": {
    "execution": {
     "iopub.execute_input": "2023-02-15T16:35:09.466771Z",
     "iopub.status.busy": "2023-02-15T16:35:09.466395Z",
     "iopub.status.idle": "2023-02-15T16:35:09.472421Z",
     "shell.execute_reply": "2023-02-15T16:35:09.471560Z"
    },
    "papermill": {
     "duration": 0.017738,
     "end_time": "2023-02-15T16:35:09.474420",
     "exception": false,
     "start_time": "2023-02-15T16:35:09.456682",
     "status": "completed"
    },
    "tags": []
   },
   "outputs": [],
   "source": [
    "# Sample Inputs\n",
    "\n",
    "# s1_data = np.random.randint(20, size=(2, 20))\n",
    "# s2_data = np.random.randint(20, size=(2, 20))\n",
    "# label_data = np.random.randint(2, size=(2, 1))\n",
    "# model.predict({\"sentence1\": s1_data, \"sentence2\": s2_data})\n",
    "# model.fit({\"sentence1\": s1_data, \"sentence2\": s2_data}, {'equalProb': label_data})"
   ]
  },
  {
   "cell_type": "markdown",
   "id": "d461ca81",
   "metadata": {
    "papermill": {
     "duration": 0.008201,
     "end_time": "2023-02-15T16:35:09.491138",
     "exception": false,
     "start_time": "2023-02-15T16:35:09.482937",
     "status": "completed"
    },
    "tags": []
   },
   "source": [
    "## Train The Model"
   ]
  },
  {
   "cell_type": "code",
   "execution_count": 18,
   "id": "dffba454",
   "metadata": {
    "collapsed": true,
    "execution": {
     "iopub.execute_input": "2023-02-15T16:35:09.509445Z",
     "iopub.status.busy": "2023-02-15T16:35:09.508674Z",
     "iopub.status.idle": "2023-02-15T16:54:35.006453Z",
     "shell.execute_reply": "2023-02-15T16:54:35.005503Z"
    },
    "jupyter": {
     "outputs_hidden": true
    },
    "papermill": {
     "duration": 1166.679329,
     "end_time": "2023-02-15T16:54:36.178783",
     "exception": false,
     "start_time": "2023-02-15T16:35:09.499454",
     "status": "completed"
    },
    "tags": []
   },
   "outputs": [
    {
     "name": "stdout",
     "output_type": "stream",
     "text": [
      "Epoch 1/100\n",
      "1544/1544 [==============================] - 22s 8ms/step - loss: 0.6758 - binary_accuracy: 0.5586 - val_loss: 0.6606 - val_binary_accuracy: 0.5765\n",
      "Epoch 2/100\n",
      "1544/1544 [==============================] - 11s 7ms/step - loss: 0.6445 - binary_accuracy: 0.6195 - val_loss: 0.6344 - val_binary_accuracy: 0.6351\n",
      "Epoch 3/100\n",
      "1544/1544 [==============================] - 11s 7ms/step - loss: 0.6220 - binary_accuracy: 0.6510 - val_loss: 0.6235 - val_binary_accuracy: 0.6501\n",
      "Epoch 4/100\n",
      "1544/1544 [==============================] - 11s 7ms/step - loss: 0.6074 - binary_accuracy: 0.6658 - val_loss: 0.6215 - val_binary_accuracy: 0.6543\n",
      "Epoch 5/100\n",
      "1544/1544 [==============================] - 11s 7ms/step - loss: 0.5980 - binary_accuracy: 0.6731 - val_loss: 0.6196 - val_binary_accuracy: 0.6530\n",
      "Epoch 6/100\n",
      "1544/1544 [==============================] - 11s 7ms/step - loss: 0.5913 - binary_accuracy: 0.6807 - val_loss: 0.6186 - val_binary_accuracy: 0.6511\n",
      "Epoch 7/100\n",
      "1544/1544 [==============================] - 11s 7ms/step - loss: 0.5854 - binary_accuracy: 0.6876 - val_loss: 0.6190 - val_binary_accuracy: 0.6575\n",
      "Epoch 8/100\n",
      "1544/1544 [==============================] - 11s 7ms/step - loss: 0.5795 - binary_accuracy: 0.6928 - val_loss: 0.6206 - val_binary_accuracy: 0.6525\n",
      "Epoch 9/100\n",
      "1544/1544 [==============================] - 11s 7ms/step - loss: 0.5750 - binary_accuracy: 0.6976 - val_loss: 0.6195 - val_binary_accuracy: 0.6593\n",
      "Epoch 10/100\n",
      "1544/1544 [==============================] - 11s 7ms/step - loss: 0.5709 - binary_accuracy: 0.7007 - val_loss: 0.6200 - val_binary_accuracy: 0.6585\n",
      "Epoch 11/100\n",
      "1544/1544 [==============================] - 11s 7ms/step - loss: 0.5671 - binary_accuracy: 0.7036 - val_loss: 0.6170 - val_binary_accuracy: 0.6582\n",
      "Epoch 12/100\n",
      "1544/1544 [==============================] - 11s 7ms/step - loss: 0.5643 - binary_accuracy: 0.7064 - val_loss: 0.6127 - val_binary_accuracy: 0.6668\n",
      "Epoch 13/100\n",
      "1544/1544 [==============================] - 11s 7ms/step - loss: 0.5613 - binary_accuracy: 0.7097 - val_loss: 0.6183 - val_binary_accuracy: 0.6647\n",
      "Epoch 14/100\n",
      "1544/1544 [==============================] - 12s 8ms/step - loss: 0.5581 - binary_accuracy: 0.7123 - val_loss: 0.6225 - val_binary_accuracy: 0.6631\n",
      "Epoch 15/100\n",
      "1544/1544 [==============================] - 11s 7ms/step - loss: 0.5565 - binary_accuracy: 0.7130 - val_loss: 0.6180 - val_binary_accuracy: 0.6669\n",
      "Epoch 16/100\n",
      "1544/1544 [==============================] - 11s 7ms/step - loss: 0.5525 - binary_accuracy: 0.7168 - val_loss: 0.6177 - val_binary_accuracy: 0.6633\n",
      "Epoch 17/100\n",
      "1544/1544 [==============================] - 11s 7ms/step - loss: 0.5505 - binary_accuracy: 0.7182 - val_loss: 0.6265 - val_binary_accuracy: 0.6629\n",
      "Epoch 18/100\n",
      "1544/1544 [==============================] - 11s 7ms/step - loss: 0.5486 - binary_accuracy: 0.7199 - val_loss: 0.6207 - val_binary_accuracy: 0.6675\n",
      "Epoch 19/100\n",
      "1544/1544 [==============================] - 11s 7ms/step - loss: 0.5471 - binary_accuracy: 0.7204 - val_loss: 0.6238 - val_binary_accuracy: 0.6653\n",
      "Epoch 20/100\n",
      "1544/1544 [==============================] - 11s 7ms/step - loss: 0.5437 - binary_accuracy: 0.7231 - val_loss: 0.6273 - val_binary_accuracy: 0.6596\n",
      "Epoch 21/100\n",
      "1544/1544 [==============================] - 11s 7ms/step - loss: 0.5428 - binary_accuracy: 0.7244 - val_loss: 0.6288 - val_binary_accuracy: 0.6611\n",
      "Epoch 22/100\n",
      "1544/1544 [==============================] - 12s 8ms/step - loss: 0.5411 - binary_accuracy: 0.7260 - val_loss: 0.6255 - val_binary_accuracy: 0.6669\n",
      "Epoch 23/100\n",
      "1544/1544 [==============================] - 11s 7ms/step - loss: 0.5391 - binary_accuracy: 0.7285 - val_loss: 0.6248 - val_binary_accuracy: 0.6566\n",
      "Epoch 24/100\n",
      "1544/1544 [==============================] - 11s 7ms/step - loss: 0.5373 - binary_accuracy: 0.7290 - val_loss: 0.6275 - val_binary_accuracy: 0.6599\n",
      "Epoch 25/100\n",
      "1544/1544 [==============================] - 11s 7ms/step - loss: 0.5359 - binary_accuracy: 0.7310 - val_loss: 0.6304 - val_binary_accuracy: 0.6610\n",
      "Epoch 26/100\n",
      "1544/1544 [==============================] - 11s 7ms/step - loss: 0.5356 - binary_accuracy: 0.7327 - val_loss: 0.6248 - val_binary_accuracy: 0.6633\n",
      "Epoch 27/100\n",
      "1544/1544 [==============================] - 11s 7ms/step - loss: 0.5332 - binary_accuracy: 0.7326 - val_loss: 0.6319 - val_binary_accuracy: 0.6566\n",
      "Epoch 28/100\n",
      "1544/1544 [==============================] - 11s 7ms/step - loss: 0.5326 - binary_accuracy: 0.7333 - val_loss: 0.6274 - val_binary_accuracy: 0.6640\n",
      "Epoch 29/100\n",
      "1544/1544 [==============================] - 11s 7ms/step - loss: 0.5314 - binary_accuracy: 0.7356 - val_loss: 0.6283 - val_binary_accuracy: 0.6668\n",
      "Epoch 30/100\n",
      "1544/1544 [==============================] - 11s 7ms/step - loss: 0.5298 - binary_accuracy: 0.7353 - val_loss: 0.6309 - val_binary_accuracy: 0.6557\n",
      "Epoch 31/100\n",
      "1544/1544 [==============================] - 11s 7ms/step - loss: 0.5295 - binary_accuracy: 0.7359 - val_loss: 0.6289 - val_binary_accuracy: 0.6640\n",
      "Epoch 32/100\n",
      "1544/1544 [==============================] - 11s 7ms/step - loss: 0.5275 - binary_accuracy: 0.7365 - val_loss: 0.6293 - val_binary_accuracy: 0.6590\n",
      "Epoch 33/100\n",
      "1544/1544 [==============================] - 11s 7ms/step - loss: 0.5269 - binary_accuracy: 0.7386 - val_loss: 0.6310 - val_binary_accuracy: 0.6624\n",
      "Epoch 34/100\n",
      "1544/1544 [==============================] - 11s 7ms/step - loss: 0.5264 - binary_accuracy: 0.7393 - val_loss: 0.6311 - val_binary_accuracy: 0.6658\n",
      "Epoch 35/100\n",
      "1544/1544 [==============================] - 11s 7ms/step - loss: 0.5256 - binary_accuracy: 0.7397 - val_loss: 0.6305 - val_binary_accuracy: 0.6630\n",
      "Epoch 36/100\n",
      "1544/1544 [==============================] - 11s 7ms/step - loss: 0.5256 - binary_accuracy: 0.7395 - val_loss: 0.6307 - val_binary_accuracy: 0.6628\n",
      "Epoch 37/100\n",
      "1544/1544 [==============================] - 11s 7ms/step - loss: 0.5230 - binary_accuracy: 0.7421 - val_loss: 0.6303 - val_binary_accuracy: 0.6644\n",
      "Epoch 38/100\n",
      "1544/1544 [==============================] - 11s 7ms/step - loss: 0.5235 - binary_accuracy: 0.7422 - val_loss: 0.6340 - val_binary_accuracy: 0.6669\n",
      "Epoch 39/100\n",
      "1544/1544 [==============================] - 11s 7ms/step - loss: 0.5216 - binary_accuracy: 0.7427 - val_loss: 0.6359 - val_binary_accuracy: 0.6621\n",
      "Epoch 40/100\n",
      "1544/1544 [==============================] - 11s 7ms/step - loss: 0.5217 - binary_accuracy: 0.7422 - val_loss: 0.6387 - val_binary_accuracy: 0.6655\n",
      "Epoch 41/100\n",
      "1544/1544 [==============================] - 11s 7ms/step - loss: 0.5212 - binary_accuracy: 0.7417 - val_loss: 0.6283 - val_binary_accuracy: 0.6656\n",
      "Epoch 42/100\n",
      "1544/1544 [==============================] - 12s 8ms/step - loss: 0.5191 - binary_accuracy: 0.7426 - val_loss: 0.6325 - val_binary_accuracy: 0.6601\n",
      "Epoch 43/100\n",
      "1544/1544 [==============================] - 12s 8ms/step - loss: 0.5188 - binary_accuracy: 0.7437 - val_loss: 0.6325 - val_binary_accuracy: 0.6689\n",
      "Epoch 44/100\n",
      "1544/1544 [==============================] - 11s 7ms/step - loss: 0.5187 - binary_accuracy: 0.7434 - val_loss: 0.6357 - val_binary_accuracy: 0.6686\n",
      "Epoch 45/100\n",
      "1544/1544 [==============================] - 12s 8ms/step - loss: 0.5174 - binary_accuracy: 0.7452 - val_loss: 0.6380 - val_binary_accuracy: 0.6690\n",
      "Epoch 46/100\n",
      "1544/1544 [==============================] - 11s 7ms/step - loss: 0.5171 - binary_accuracy: 0.7448 - val_loss: 0.6383 - val_binary_accuracy: 0.6678\n",
      "Epoch 47/100\n",
      "1544/1544 [==============================] - 11s 7ms/step - loss: 0.5175 - binary_accuracy: 0.7450 - val_loss: 0.6332 - val_binary_accuracy: 0.6691\n",
      "Epoch 48/100\n",
      "1544/1544 [==============================] - 12s 8ms/step - loss: 0.5168 - binary_accuracy: 0.7459 - val_loss: 0.6293 - val_binary_accuracy: 0.6727\n",
      "Epoch 49/100\n",
      "1544/1544 [==============================] - 12s 8ms/step - loss: 0.5160 - binary_accuracy: 0.7457 - val_loss: 0.6341 - val_binary_accuracy: 0.6628\n",
      "Epoch 50/100\n",
      "1544/1544 [==============================] - 11s 7ms/step - loss: 0.5149 - binary_accuracy: 0.7475 - val_loss: 0.6394 - val_binary_accuracy: 0.6640\n",
      "Epoch 51/100\n",
      "1544/1544 [==============================] - 11s 7ms/step - loss: 0.5142 - binary_accuracy: 0.7462 - val_loss: 0.6352 - val_binary_accuracy: 0.6685\n",
      "Epoch 52/100\n",
      "1544/1544 [==============================] - 12s 7ms/step - loss: 0.5139 - binary_accuracy: 0.7471 - val_loss: 0.6408 - val_binary_accuracy: 0.6675\n",
      "Epoch 53/100\n",
      "1544/1544 [==============================] - 11s 7ms/step - loss: 0.5131 - binary_accuracy: 0.7497 - val_loss: 0.6361 - val_binary_accuracy: 0.6684\n",
      "Epoch 54/100\n",
      "1544/1544 [==============================] - 12s 7ms/step - loss: 0.5129 - binary_accuracy: 0.7492 - val_loss: 0.6371 - val_binary_accuracy: 0.6680\n",
      "Epoch 55/100\n",
      "1544/1544 [==============================] - 11s 7ms/step - loss: 0.5130 - binary_accuracy: 0.7477 - val_loss: 0.6456 - val_binary_accuracy: 0.6681\n",
      "Epoch 56/100\n",
      "1544/1544 [==============================] - 12s 8ms/step - loss: 0.5112 - binary_accuracy: 0.7495 - val_loss: 0.6400 - val_binary_accuracy: 0.6631\n",
      "Epoch 57/100\n",
      "1544/1544 [==============================] - 11s 7ms/step - loss: 0.5119 - binary_accuracy: 0.7485 - val_loss: 0.6436 - val_binary_accuracy: 0.6660\n",
      "Epoch 58/100\n",
      "1544/1544 [==============================] - 11s 7ms/step - loss: 0.5114 - binary_accuracy: 0.7496 - val_loss: 0.6450 - val_binary_accuracy: 0.6658\n",
      "Epoch 59/100\n",
      "1544/1544 [==============================] - 11s 7ms/step - loss: 0.5117 - binary_accuracy: 0.7491 - val_loss: 0.6419 - val_binary_accuracy: 0.6669\n",
      "Epoch 60/100\n",
      "1544/1544 [==============================] - 11s 7ms/step - loss: 0.5102 - binary_accuracy: 0.7502 - val_loss: 0.6427 - val_binary_accuracy: 0.6697\n",
      "Epoch 61/100\n",
      "1544/1544 [==============================] - 11s 7ms/step - loss: 0.5099 - binary_accuracy: 0.7515 - val_loss: 0.6428 - val_binary_accuracy: 0.6655\n",
      "Epoch 62/100\n",
      "1544/1544 [==============================] - 12s 8ms/step - loss: 0.5089 - binary_accuracy: 0.7514 - val_loss: 0.6373 - val_binary_accuracy: 0.6655\n",
      "Epoch 63/100\n",
      "1544/1544 [==============================] - 11s 7ms/step - loss: 0.5099 - binary_accuracy: 0.7510 - val_loss: 0.6451 - val_binary_accuracy: 0.6633\n",
      "Epoch 64/100\n",
      "1544/1544 [==============================] - 11s 7ms/step - loss: 0.5089 - binary_accuracy: 0.7514 - val_loss: 0.6454 - val_binary_accuracy: 0.6629\n",
      "Epoch 65/100\n",
      "1544/1544 [==============================] - 11s 7ms/step - loss: 0.5087 - binary_accuracy: 0.7511 - val_loss: 0.6424 - val_binary_accuracy: 0.6701\n",
      "Epoch 66/100\n",
      "1544/1544 [==============================] - 11s 7ms/step - loss: 0.5081 - binary_accuracy: 0.7520 - val_loss: 0.6442 - val_binary_accuracy: 0.6594\n",
      "Epoch 67/100\n",
      "1544/1544 [==============================] - 12s 8ms/step - loss: 0.5081 - binary_accuracy: 0.7511 - val_loss: 0.6420 - val_binary_accuracy: 0.6685\n",
      "Epoch 68/100\n",
      "1544/1544 [==============================] - 12s 8ms/step - loss: 0.5067 - binary_accuracy: 0.7545 - val_loss: 0.6423 - val_binary_accuracy: 0.6675\n",
      "Epoch 69/100\n",
      "1544/1544 [==============================] - 11s 7ms/step - loss: 0.5070 - binary_accuracy: 0.7532 - val_loss: 0.6470 - val_binary_accuracy: 0.6672\n",
      "Epoch 70/100\n",
      "1544/1544 [==============================] - 11s 7ms/step - loss: 0.5060 - binary_accuracy: 0.7540 - val_loss: 0.6384 - val_binary_accuracy: 0.6631\n",
      "Epoch 71/100\n",
      "1544/1544 [==============================] - 12s 8ms/step - loss: 0.5064 - binary_accuracy: 0.7531 - val_loss: 0.6402 - val_binary_accuracy: 0.6659\n",
      "Epoch 72/100\n",
      "1544/1544 [==============================] - 11s 7ms/step - loss: 0.5055 - binary_accuracy: 0.7524 - val_loss: 0.6467 - val_binary_accuracy: 0.6671\n",
      "Epoch 73/100\n",
      "1544/1544 [==============================] - 12s 8ms/step - loss: 0.5054 - binary_accuracy: 0.7542 - val_loss: 0.6383 - val_binary_accuracy: 0.6665\n",
      "Epoch 74/100\n",
      "1544/1544 [==============================] - 12s 8ms/step - loss: 0.5049 - binary_accuracy: 0.7528 - val_loss: 0.6403 - val_binary_accuracy: 0.6710\n",
      "Epoch 75/100\n",
      "1544/1544 [==============================] - 11s 7ms/step - loss: 0.5047 - binary_accuracy: 0.7551 - val_loss: 0.6402 - val_binary_accuracy: 0.6705\n",
      "Epoch 76/100\n",
      "1544/1544 [==============================] - 11s 7ms/step - loss: 0.5049 - binary_accuracy: 0.7550 - val_loss: 0.6372 - val_binary_accuracy: 0.6741\n",
      "Epoch 77/100\n",
      "1544/1544 [==============================] - 12s 8ms/step - loss: 0.5042 - binary_accuracy: 0.7552 - val_loss: 0.6423 - val_binary_accuracy: 0.6737\n",
      "Epoch 78/100\n",
      "1544/1544 [==============================] - 11s 7ms/step - loss: 0.5045 - binary_accuracy: 0.7535 - val_loss: 0.6416 - val_binary_accuracy: 0.6700\n",
      "Epoch 79/100\n",
      "1544/1544 [==============================] - 11s 7ms/step - loss: 0.5041 - binary_accuracy: 0.7554 - val_loss: 0.6453 - val_binary_accuracy: 0.6687\n",
      "Epoch 80/100\n",
      "1544/1544 [==============================] - 11s 7ms/step - loss: 0.5041 - binary_accuracy: 0.7553 - val_loss: 0.6408 - val_binary_accuracy: 0.6664\n",
      "Epoch 81/100\n",
      "1544/1544 [==============================] - 12s 8ms/step - loss: 0.5025 - binary_accuracy: 0.7553 - val_loss: 0.6454 - val_binary_accuracy: 0.6740\n",
      "Epoch 82/100\n",
      "1544/1544 [==============================] - 11s 7ms/step - loss: 0.5035 - binary_accuracy: 0.7543 - val_loss: 0.6505 - val_binary_accuracy: 0.6649\n",
      "Epoch 83/100\n",
      "1544/1544 [==============================] - 11s 7ms/step - loss: 0.5021 - binary_accuracy: 0.7559 - val_loss: 0.6472 - val_binary_accuracy: 0.6681\n",
      "Epoch 84/100\n",
      "1544/1544 [==============================] - 11s 7ms/step - loss: 0.5019 - binary_accuracy: 0.7570 - val_loss: 0.6461 - val_binary_accuracy: 0.6668\n",
      "Epoch 85/100\n",
      "1544/1544 [==============================] - 11s 7ms/step - loss: 0.5008 - binary_accuracy: 0.7557 - val_loss: 0.6477 - val_binary_accuracy: 0.6678\n",
      "Epoch 86/100\n",
      "1544/1544 [==============================] - 11s 7ms/step - loss: 0.5013 - binary_accuracy: 0.7576 - val_loss: 0.6459 - val_binary_accuracy: 0.6726\n",
      "Epoch 87/100\n",
      "1544/1544 [==============================] - 11s 7ms/step - loss: 0.5021 - binary_accuracy: 0.7570 - val_loss: 0.6434 - val_binary_accuracy: 0.6666\n",
      "Epoch 88/100\n",
      "1544/1544 [==============================] - 12s 8ms/step - loss: 0.5012 - binary_accuracy: 0.7577 - val_loss: 0.6405 - val_binary_accuracy: 0.6689\n",
      "Epoch 89/100\n",
      "1544/1544 [==============================] - 11s 7ms/step - loss: 0.5012 - binary_accuracy: 0.7562 - val_loss: 0.6476 - val_binary_accuracy: 0.6696\n",
      "Epoch 90/100\n",
      "1544/1544 [==============================] - 11s 7ms/step - loss: 0.5006 - binary_accuracy: 0.7579 - val_loss: 0.6412 - val_binary_accuracy: 0.6710\n",
      "Epoch 91/100\n",
      "1544/1544 [==============================] - 12s 8ms/step - loss: 0.5001 - binary_accuracy: 0.7577 - val_loss: 0.6436 - val_binary_accuracy: 0.6699\n",
      "Epoch 92/100\n",
      "1544/1544 [==============================] - 12s 8ms/step - loss: 0.5001 - binary_accuracy: 0.7591 - val_loss: 0.6431 - val_binary_accuracy: 0.6689\n",
      "Epoch 93/100\n",
      "1544/1544 [==============================] - 11s 7ms/step - loss: 0.4992 - binary_accuracy: 0.7578 - val_loss: 0.6479 - val_binary_accuracy: 0.6702\n",
      "Epoch 94/100\n",
      "1544/1544 [==============================] - 11s 7ms/step - loss: 0.4995 - binary_accuracy: 0.7569 - val_loss: 0.6440 - val_binary_accuracy: 0.6656\n",
      "Epoch 95/100\n",
      "1544/1544 [==============================] - 11s 7ms/step - loss: 0.4994 - binary_accuracy: 0.7577 - val_loss: 0.6464 - val_binary_accuracy: 0.6706\n",
      "Epoch 96/100\n",
      "1544/1544 [==============================] - 11s 7ms/step - loss: 0.4991 - binary_accuracy: 0.7581 - val_loss: 0.6454 - val_binary_accuracy: 0.6694\n",
      "Epoch 97/100\n",
      "1544/1544 [==============================] - 11s 7ms/step - loss: 0.4988 - binary_accuracy: 0.7577 - val_loss: 0.6480 - val_binary_accuracy: 0.6706\n",
      "Epoch 98/100\n",
      "1544/1544 [==============================] - 12s 8ms/step - loss: 0.4988 - binary_accuracy: 0.7596 - val_loss: 0.6518 - val_binary_accuracy: 0.6659\n",
      "Epoch 99/100\n",
      "1544/1544 [==============================] - 11s 7ms/step - loss: 0.4990 - binary_accuracy: 0.7589 - val_loss: 0.6430 - val_binary_accuracy: 0.6727\n",
      "Epoch 100/100\n",
      "1544/1544 [==============================] - 11s 7ms/step - loss: 0.4991 - binary_accuracy: 0.7575 - val_loss: 0.6473 - val_binary_accuracy: 0.6696\n"
     ]
    },
    {
     "data": {
      "text/plain": [
       "<keras.callbacks.History at 0x7f8d41cfd6d0>"
      ]
     },
     "execution_count": 18,
     "metadata": {},
     "output_type": "execute_result"
    }
   ],
   "source": [
    "model.fit(\n",
    "    x={\"sentence1\": data['train'][\"sentence1\"], \"sentence2\": data['train'][\"sentence2\"]}, \n",
    "    y={'equalProb': data['train']['label']},\n",
    "    epochs=100,\n",
    "    validation_data=({\"sentence1\": data['validation'][\"sentence1\"], \"sentence2\": data['validation'][\"sentence2\"]}, {'equalProb': data['validation']['label']})\n",
    ")"
   ]
  },
  {
   "cell_type": "markdown",
   "id": "7c137f6c",
   "metadata": {
    "papermill": {
     "duration": 1.372197,
     "end_time": "2023-02-15T16:54:38.664804",
     "exception": false,
     "start_time": "2023-02-15T16:54:37.292607",
     "status": "completed"
    },
    "tags": []
   },
   "source": [
    "## Save Model"
   ]
  },
  {
   "cell_type": "code",
   "execution_count": 19,
   "id": "9794dae7",
   "metadata": {
    "execution": {
     "iopub.execute_input": "2023-02-15T16:54:41.437381Z",
     "iopub.status.busy": "2023-02-15T16:54:41.436994Z",
     "iopub.status.idle": "2023-02-15T16:54:41.441999Z",
     "shell.execute_reply": "2023-02-15T16:54:41.441056Z"
    },
    "papermill": {
     "duration": 1.157621,
     "end_time": "2023-02-15T16:54:41.444135",
     "exception": false,
     "start_time": "2023-02-15T16:54:40.286514",
     "status": "completed"
    },
    "tags": []
   },
   "outputs": [],
   "source": [
    "# model.save('model')"
   ]
  },
  {
   "cell_type": "markdown",
   "id": "2ff8ab4c",
   "metadata": {
    "papermill": {
     "duration": 1.133521,
     "end_time": "2023-02-15T16:54:43.711553",
     "exception": false,
     "start_time": "2023-02-15T16:54:42.578032",
     "status": "completed"
    },
    "tags": []
   },
   "source": [
    "## Test Set accuracy"
   ]
  },
  {
   "cell_type": "code",
   "execution_count": 20,
   "id": "1dd4158f",
   "metadata": {
    "execution": {
     "iopub.execute_input": "2023-02-15T16:54:45.951636Z",
     "iopub.status.busy": "2023-02-15T16:54:45.951251Z",
     "iopub.status.idle": "2023-02-15T16:54:47.509176Z",
     "shell.execute_reply": "2023-02-15T16:54:47.508311Z"
    },
    "papermill": {
     "duration": 2.650862,
     "end_time": "2023-02-15T16:54:47.511432",
     "exception": false,
     "start_time": "2023-02-15T16:54:44.860570",
     "status": "completed"
    },
    "tags": []
   },
   "outputs": [
    {
     "data": {
      "text/plain": [
       "0.6555"
      ]
     },
     "execution_count": 20,
     "metadata": {},
     "output_type": "execute_result"
    }
   ],
   "source": [
    "def getTestSetAccuracy():\n",
    "    test_preds = model.predict({\"sentence1\": data['test'][\"sentence1\"], \"sentence2\": data['test'][\"sentence2\"]}, verbose=0)\n",
    "    m = tf.keras.metrics.BinaryAccuracy()\n",
    "    m.update_state(data['test'][\"label\"], test_preds)\n",
    "    return m.result().numpy()\n",
    "\n",
    "getTestSetAccuracy()"
   ]
  },
  {
   "cell_type": "markdown",
   "id": "411575b3",
   "metadata": {
    "papermill": {
     "duration": 1.139315,
     "end_time": "2023-02-15T16:54:50.007611",
     "exception": false,
     "start_time": "2023-02-15T16:54:48.868296",
     "status": "completed"
    },
    "tags": []
   },
   "source": [
    "## Make Predictions"
   ]
  },
  {
   "cell_type": "code",
   "execution_count": 21,
   "id": "d84d61b6",
   "metadata": {
    "execution": {
     "iopub.execute_input": "2023-02-15T16:54:52.246402Z",
     "iopub.status.busy": "2023-02-15T16:54:52.245433Z",
     "iopub.status.idle": "2023-02-15T16:54:52.252183Z",
     "shell.execute_reply": "2023-02-15T16:54:52.251158Z"
    },
    "papermill": {
     "duration": 1.08845,
     "end_time": "2023-02-15T16:54:52.254244",
     "exception": false,
     "start_time": "2023-02-15T16:54:51.165794",
     "status": "completed"
    },
    "tags": []
   },
   "outputs": [],
   "source": [
    "def getSimilarityProbability(s1: str, s2: str):\n",
    "    s1 = s1.lower()\n",
    "    s2 = s2.lower()\n",
    "    v1 = vectorizer(s1)\n",
    "    v2 = vectorizer(s2)\n",
    "    return model.predict({\"sentence1\": np.array(v1).reshape((1, -1)), \"sentence2\": np.array(v2).reshape((1, -1))}, verbose=0)[0][0]"
   ]
  },
  {
   "cell_type": "code",
   "execution_count": 22,
   "id": "e02c4f9d",
   "metadata": {
    "execution": {
     "iopub.execute_input": "2023-02-15T16:54:54.614626Z",
     "iopub.status.busy": "2023-02-15T16:54:54.614260Z",
     "iopub.status.idle": "2023-02-15T16:54:55.513558Z",
     "shell.execute_reply": "2023-02-15T16:54:55.512627Z"
    },
    "papermill": {
     "duration": 2.112197,
     "end_time": "2023-02-15T16:54:55.516026",
     "exception": false,
     "start_time": "2023-02-15T16:54:53.403829",
     "status": "completed"
    },
    "tags": []
   },
   "outputs": [
    {
     "data": {
      "text/plain": [
       "0.8029901"
      ]
     },
     "execution_count": 22,
     "metadata": {},
     "output_type": "execute_result"
    }
   ],
   "source": [
    "getSimilarityProbability('you are sleeping', 'are you sleeping?')"
   ]
  },
  {
   "cell_type": "code",
   "execution_count": null,
   "id": "40269340",
   "metadata": {
    "papermill": {
     "duration": 1.134743,
     "end_time": "2023-02-15T16:54:57.792425",
     "exception": false,
     "start_time": "2023-02-15T16:54:56.657682",
     "status": "completed"
    },
    "tags": []
   },
   "outputs": [],
   "source": []
  }
 ],
 "metadata": {
  "kernelspec": {
   "display_name": "Python 3",
   "language": "python",
   "name": "python3"
  },
  "language_info": {
   "codemirror_mode": {
    "name": "ipython",
    "version": 3
   },
   "file_extension": ".py",
   "mimetype": "text/x-python",
   "name": "python",
   "nbconvert_exporter": "python",
   "pygments_lexer": "ipython3",
   "version": "3.7.12"
  },
  "papermill": {
   "default_parameters": {},
   "duration": 1241.162767,
   "end_time": "2023-02-15T16:55:02.414097",
   "environment_variables": {},
   "exception": null,
   "input_path": "__notebook__.ipynb",
   "output_path": "__notebook__.ipynb",
   "parameters": {},
   "start_time": "2023-02-15T16:34:21.251330",
   "version": "2.3.4"
  }
 },
 "nbformat": 4,
 "nbformat_minor": 5
}
